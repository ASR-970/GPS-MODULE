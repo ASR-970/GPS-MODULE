{
  "cells": [
    {
      "cell_type": "markdown",
      "metadata": {
        "id": "view-in-github",
        "colab_type": "text"
      },
      "source": [
        "<a href=\"https://colab.research.google.com/github/ASR-970/GPS-MODULE/blob/main/GPS_NGROCK.ipynb\" target=\"_parent\"><img src=\"https://colab.research.google.com/assets/colab-badge.svg\" alt=\"Open In Colab\"/></a>"
      ]
    },
    {
      "cell_type": "code",
      "source": [
        "from flask import Flask, request, jsonify\n",
        "from flask_cors import CORS\n",
        "from pyngrok import ngrok\n",
        "\n",
        "app = Flask(__name__)\n",
        "CORS(app)  # Allow CORS to prevent cross-origin issues\n",
        "\n",
        "@app.route(\"/\", methods=[\"POST\"])\n",
        "def receive_location():\n",
        "    data = request.get_json()\n",
        "    latitude = data.get(\"latitude\", \"Unknown\")\n",
        "    longitude = data.get(\"longitude\", \"Unknown\")\n",
        "    print(f\"Received GPS Data: Latitude = {latitude}, Longitude = {longitude}\")\n",
        "    return jsonify({\"status\": \"Success\", \"latitude\": latitude, \"longitude\": longitude})\n",
        "\n",
        "# Open a tunnel to make the server public\n",
        "public_url = ngrok.connect(5000).public_url\n",
        "print(f\"Public URL: {public_url}\")\n",
        "\n",
        "# Start the Flask server\n",
        "app.run(port=5000)"
      ],
      "metadata": {
        "id": "SokiqGkDSo7F"
      },
      "execution_count": null,
      "outputs": []
    }
  ],
  "metadata": {
    "colab": {
      "provenance": [],
      "authorship_tag": "ABX9TyMoeRVfRyCWXFFfvC4K8U1/",
      "include_colab_link": true
    },
    "kernelspec": {
      "display_name": "Python 3",
      "name": "python3"
    },
    "language_info": {
      "name": "python"
    }
  },
  "nbformat": 4,
  "nbformat_minor": 0
}